{
 "cells": [
  {
   "cell_type": "markdown",
   "metadata": {},
   "source": [
    "# Dutch National Flag Algorithm, or 3-way Partitioning"
   ]
  },
  {
   "cell_type": "markdown",
   "metadata": {},
   "source": [
    "The unknown region is shrunk while maintaining these conditions\n",
    "\n",
    "Lo := 1; Mid := 1; Hi := N;\n",
    "while Mid <= Hi do\n",
    "Invariant: a[1..Lo-1]=0 and a[Lo..Mid-1]=1 and a[Hi+1..N]=2; a[Mid..Hi] are unknown.\n",
    "case a[Mid] in\n",
    "0: swap a[Lo] and a[Mid]; Lo++; Mid++\n",
    "1: Mid++\n",
    "2: swap a[Mid] and a[Hi]; Hi–"
   ]
  },
  {
   "cell_type": "code",
   "execution_count": null,
   "metadata": {},
   "outputs": [],
   "source": [
    "arr=list(map(int,input().split()))\n",
    "def DNFP(arr):\n",
    "    low=0\n",
    "    mid=0\n",
    "    high=len(arr)-1\n",
    "    while (mid<=high):\n",
    "        if arr[mid]==0:\n",
    "            arr[low],arr[mid]=arr[mid],arr[low]\n",
    "            low=low+1\n",
    "            mid=mid+1\n",
    "        elif arr[mid]== 1:\n",
    "            mid=mid+1\n",
    "        else:\n",
    "            arr[mid],arr[high]=arr[high],arr[mid]\n",
    "            high=high-1\n",
    "    return arr\n",
    "print(DNFP(arr))"
   ]
  }
 ],
 "metadata": {
  "kernelspec": {
   "display_name": "Python 3",
   "language": "python",
   "name": "python3"
  },
  "language_info": {
   "codemirror_mode": {
    "name": "ipython",
    "version": 3
   },
   "file_extension": ".py",
   "mimetype": "text/x-python",
   "name": "python",
   "nbconvert_exporter": "python",
   "pygments_lexer": "ipython3",
   "version": "3.7.3"
  }
 },
 "nbformat": 4,
 "nbformat_minor": 2
}
